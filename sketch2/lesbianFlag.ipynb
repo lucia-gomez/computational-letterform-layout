{
 "cells": [
  {
   "cell_type": "markdown",
   "id": "cebe11fd-304d-4be8-b325-28b4874883b2",
   "metadata": {},
   "source": [
    "I was inspired by this meme that assigns the 7 colors of the lesbian pride flag to letters of the word \"lesbian.\" I wanted to see what other words I could create with this pattern and how I could experiment with web accessibility features to make this more into nonsensical spoken \n",
    "poetry\n",
    "\n",
    "<img src=\"meme.jpg\" height=\"300px\"/>"
   ]
  },
  {
   "cell_type": "markdown",
   "id": "b8644ca1-aecc-4da8-96dc-0286f4f5bb45",
   "metadata": {},
   "source": [
    "I found a plaintext list of English words online so I could filter to see all valid English words that can be spelled with the letters in \"lesbian\""
   ]
  },
  {
   "cell_type": "code",
   "execution_count": 2,
   "id": "2e058956-c8e4-4104-918e-1d85390affa0",
   "metadata": {},
   "outputs": [
    {
     "name": "stdout",
     "output_type": "stream",
     "text": [
      "45402\n"
     ]
    }
   ],
   "source": [
    "words = open(\"words.txt\").read().splitlines()\n",
    "print(len(words))"
   ]
  },
  {
   "cell_type": "code",
   "execution_count": 3,
   "id": "94b1ea82-b718-443f-ab55-93256f9b4c8c",
   "metadata": {},
   "outputs": [
    {
     "name": "stdout",
     "output_type": "stream",
     "text": [
      "True\n",
      "False\n"
     ]
    }
   ],
   "source": [
    "gayLetters = list(\"lesbian\")\n",
    "isGayWord = lambda word: all(letter in gayLetters for letter in word.lower())\n",
    "print(isGayWord(\"Bean\"))\n",
    "print(isGayWord(\"lemon\"))"
   ]
  },
  {
   "cell_type": "code",
   "execution_count": 4,
   "id": "863c0c3e-2376-4c92-8358-52eba960a2e3",
   "metadata": {},
   "outputs": [
    {
     "name": "stdout",
     "output_type": "stream",
     "text": [
      "['Ababa', 'abase', 'abases', 'Abba', 'abbe', 'Abe', 'Abel', 'Abelian', 'Abilene', 'able', 'Aeneas', 'ail', 'Aileen', 'aisle', 'Al', 'Alan', 'alas', 'alba', 'Albania', 'Albanian', 'Albanians', 'ale', 'alee', 'Ali', 'alias', 'aliases', 'alibi', 'alibis', 'alien', 'aliens', 'all', 'Allan', 'allele', 'alleles', 'Allen', 'allies', 'Allis', 'an', 'Anabel', 'anal', 'aniline', 'anise', 'Ann', 'Anna', 'annal', 'annals', 'Anne', 'Annie', 'ANSI', 'as', 'Asia', 'Asian', 'Asians', 'asinine', 'ass', 'assail', 'assails', 'assassin', 'assassins', 'asses', 'assess', 'assesses', 'babble', 'babbles', 'babe', 'Babel', 'babes', 'babies', 'bail', 'bale', 'bales', 'Bali', 'Balinese', 'ball', 'balls', 'balsa', 'ban', 'banal', 'banana', 'bananas', 'bane', 'bans', 'basal', 'base', 'baseball', 'baseballs', 'Basel', 'baseless', 'baseline', 'baselines', 'baseness', 'bases', 'Basie', 'basil', 'basin', 'basins', 'basis', 'bass', 'basses', 'be', 'bean', 'beans', 'bee', 'Beebe', 'been', 'bees', 'Bela', 'belie', 'belies', 'bell', 'Bella', 'belle', 'belles', 'bellies', 'Bellini', 'bells', 'Ben', 'Bess', 'Bessel', 'Bessie', 'bias', 'biases', 'bib', 'Bible', 'bibles', 'bibs', 'Bien', 'biennial', 'bilabial', 'bile', 'bill', 'Billie', 'bills', 'bin', 'Bini', 'bins', 'blab', 'blabs', 'Blaine', 'blase', 'bless', 'Blinn', 'bliss', 'ease', 'easel', 'eases', 'easiness', 'ebb', 'ebbs', 'Eben', 'eel', 'eels', 'Eileen', 'Elaine', 'Elba', 'Elena', 'Eli', 'Ella', 'Ellen', 'Ellie', 'Ellis', 'else', 'Elsie', 'en', 'enable', 'enables', 'Essen', 'Ian', 'ibis', 'Ibn', 'Ibsen', 'ill', 'illness', 'illnesses', 'ills', 'in', 'inalienable', 'inane', 'Inanna', 'inline', 'inn', 'inns', 'insane', 'insensible', 'is', 'Isabel', 'Isabella', 'Isis', 'isle', 'isles', 'lab', 'Laban', 'label', 'labels', 'labs', 'lain', 'Lana', 'lane', 'lanes', 'lass', 'lasses', 'lean', 'leanness', 'leans', 'lease', 'leases', 'Lebanese', 'lee', 'lees', 'Leila', 'Len', 'Lena', 'Lenin', 'lens', 'lenses', 'Lesbian', 'Lesbians', 'Leslie', 'less', 'lessen', 'lessens', 'liable', 'libel', 'lie', 'lien', 'liens', 'lies', 'Lila', 'Lilian', 'lilies', 'Lillian', 'Lin', 'line', 'linen', 'linens', 'lines', 'Lisa', 'Lise', 'Liss', 'nab', 'nabla', 'nablas', 'nail', 'nails', 'Nan', 'NASA', 'nasal', 'NASAs', 'Neal', 'Neil', 'Nell', 'Nellie', 'Nelsen', 'Ness', 'nibble', 'nibbles', 'Nielsen', 'nil', 'Nile', 'Nilsen', 'Nina', 'nine', 'nines', 'Sabina', 'Sabine', 'sable', 'sables', 'sail', 'sails', 'Sal', 'salable', 'sale', 'sales', 'Salesian', 'Salina', 'saline', 'Salle', 'sallies', 'San', 'Sana', 'sane', 'sea', 'seal', 'seals', 'Sean', 'seas', 'see', 'seen', 'sees', 'Selena', 'sell', 'sells', 'senile', 'sense', 'senseless', 'senselessness', 'senses', 'sensible', 'Sian', 'Siena', 'Silas', 'sill', 'silliness', 'sills', 'Sinai', 'sine', 'sines', 'sins', 'slab', 'slain', 'snail', 'snails']\n"
     ]
    }
   ],
   "source": [
    "gayWords = list(filter(isGayWord, words))\n",
    "print(gayWords)"
   ]
  },
  {
   "cell_type": "markdown",
   "id": "c6477813-1909-4b2f-9978-60a58bebe569",
   "metadata": {},
   "source": [
    "This is more words than I expected! A fair amount of them are names or other proper nouns. It tickles me to know that the name Isabel is in that list, which is my legal name"
   ]
  },
  {
   "cell_type": "code",
   "execution_count": 5,
   "id": "156be104-6d80-4138-afef-db4838772935",
   "metadata": {},
   "outputs": [],
   "source": [
    "# thank you Allison for these functions!\n",
    "from IPython.display import display, HTML\n",
    "def show_html(src):\n",
    "    return display(HTML(src), metadata=dict(isolated=True))\n",
    "    \n",
    "def mkdiv(content, **kwargs):\n",
    "    if 'position' not in kwargs:\n",
    "        kwargs['position'] = 'absolute'\n",
    "    style_str = ' '.join([\": \".join((k.replace('_', '-'), v))+\";\" for k, v in kwargs.items()])\n",
    "    return f\"<div style='{style_str}'>{content}</div>\""
   ]
  },
  {
   "cell_type": "code",
   "execution_count": 6,
   "id": "2e3278ed-21cd-4d8c-a403-69313b31d6de",
   "metadata": {},
   "outputs": [],
   "source": [
    "letterToColor = {\n",
    "    \"l\": \"#D52D00\",\n",
    "    \"e\": \"#EF7627\",\n",
    "    \"s\": \"#FF9A56\",\n",
    "    \"b\": \"#FFFFFF\",\n",
    "    \"i\": \"#D162A4\",\n",
    "    \"a\": \"#B55690\",\n",
    "    \"n\": \"#A30262\",\n",
    "}\n",
    "\n",
    "# render a single word as flag stripes + a text label using flexbox\n",
    "# ...because i love flexbox\n",
    "def wordToFlag(word):\n",
    "    children = []\n",
    "    for letter in word:\n",
    "        color = letterToColor[letter]\n",
    "        newDiv = mkdiv(\"\", \n",
    "                       position=\"relative\",\n",
    "                       height=\"10px\", \n",
    "                       width=\"120px\",\n",
    "                       background_color=color)\n",
    "        children.append(newDiv)\n",
    "\n",
    "    label = f\"<p style='text-align: center; margin: 4px 0 0 0'>{word}</p>\"\n",
    "    children.append(label)\n",
    "    return mkdiv(\"\".join(children), \n",
    "                 position=\"relative\",\n",
    "                 display=\"flex\",\n",
    "                 flex_direction=\"column\",\n",
    "                 align_items=\"center\")"
   ]
  },
  {
   "cell_type": "code",
   "execution_count": 7,
   "id": "8d2824ec-aab1-4138-a821-5c3492d8913f",
   "metadata": {},
   "outputs": [
    {
     "data": {
      "text/html": [
       "<div style='position: relative; display: flex; flex-direction: column; align-items: center;'><div style='position: relative; height: 10px; width: 120px; background-color: #D52D00;'></div><div style='position: relative; height: 10px; width: 120px; background-color: #EF7627;'></div><div style='position: relative; height: 10px; width: 120px; background-color: #FF9A56;'></div><div style='position: relative; height: 10px; width: 120px; background-color: #FFFFFF;'></div><div style='position: relative; height: 10px; width: 120px; background-color: #D162A4;'></div><div style='position: relative; height: 10px; width: 120px; background-color: #B55690;'></div><div style='position: relative; height: 10px; width: 120px; background-color: #A30262;'></div><p style='text-align: center; margin: 4px 0 0 0'>lesbian</p></div>"
      ],
      "text/plain": [
       "<IPython.core.display.HTML object>"
      ]
     },
     "metadata": {
      "isolated": true
     },
     "output_type": "display_data"
    }
   ],
   "source": [
    "show_html(wordToFlag(\"lesbian\"))"
   ]
  },
  {
   "cell_type": "code",
   "execution_count": 8,
   "id": "016c503d-5ee6-4922-a5b6-ad6fc352f707",
   "metadata": {},
   "outputs": [],
   "source": [
    "# render a list of words as a grid of evenly spaced flags\n",
    "def wordsToFlagGrid(words):\n",
    "    children = [wordToFlag(word.lower()) for word in words]\n",
    "    content = mkdiv(\"\".join(children),\n",
    "                width=\"100%\",\n",
    "                display=\"flex\",\n",
    "                flex_wrap=\"wrap\",\n",
    "                align_items=\"flex-end\",\n",
    "                justify_content=\"center\",\n",
    "                gap=\"24px\",\n",
    "                padding_bottom=\"24px\")\n",
    "\n",
    "    # the white stripe is invisible on default white bg\n",
    "    return f\"\"\"\n",
    "    <style>\n",
    "        body {{\n",
    "            background-color: #bdbdbd !important;\n",
    "        }}\n",
    "    </style>\n",
    "    {content}\n",
    "    \"\"\""
   ]
  },
  {
   "cell_type": "code",
   "execution_count": 9,
   "id": "6341e792-5a3f-44bd-bd39-d9590455bec0",
   "metadata": {},
   "outputs": [
    {
     "data": {
      "text/html": [
       "\n",
       "    <style>\n",
       "        body {\n",
       "            background-color: #bdbdbd !important;\n",
       "        }\n",
       "    </style>\n",
       "    <div style='width: 100%; display: flex; flex-wrap: wrap; align-items: flex-end; justify-content: center; gap: 24px; padding-bottom: 24px; position: absolute;'><div style='position: relative; display: flex; flex-direction: column; align-items: center;'><div style='position: relative; height: 10px; width: 120px; background-color: #D52D00;'></div><div style='position: relative; height: 10px; width: 120px; background-color: #EF7627;'></div><div style='position: relative; height: 10px; width: 120px; background-color: #FF9A56;'></div><div style='position: relative; height: 10px; width: 120px; background-color: #FFFFFF;'></div><div style='position: relative; height: 10px; width: 120px; background-color: #D162A4;'></div><div style='position: relative; height: 10px; width: 120px; background-color: #B55690;'></div><div style='position: relative; height: 10px; width: 120px; background-color: #A30262;'></div><p style='text-align: center; margin: 4px 0 0 0'>lesbian</p></div><div style='position: relative; display: flex; flex-direction: column; align-items: center;'><div style='position: relative; height: 10px; width: 120px; background-color: #D52D00;'></div><div style='position: relative; height: 10px; width: 120px; background-color: #EF7627;'></div><div style='position: relative; height: 10px; width: 120px; background-color: #FF9A56;'></div><p style='text-align: center; margin: 4px 0 0 0'>les</p></div><div style='position: relative; display: flex; flex-direction: column; align-items: center;'><div style='position: relative; height: 10px; width: 120px; background-color: #FFFFFF;'></div><div style='position: relative; height: 10px; width: 120px; background-color: #D162A4;'></div><div style='position: relative; height: 10px; width: 120px; background-color: #B55690;'></div><div style='position: relative; height: 10px; width: 120px; background-color: #A30262;'></div><p style='text-align: center; margin: 4px 0 0 0'>bian</p></div><div style='position: relative; display: flex; flex-direction: column; align-items: center;'><div style='position: relative; height: 10px; width: 120px; background-color: #B55690;'></div><div style='position: relative; height: 10px; width: 120px; background-color: #B55690;'></div><div style='position: relative; height: 10px; width: 120px; background-color: #B55690;'></div><div style='position: relative; height: 10px; width: 120px; background-color: #B55690;'></div><div style='position: relative; height: 10px; width: 120px; background-color: #B55690;'></div><div style='position: relative; height: 10px; width: 120px; background-color: #B55690;'></div><div style='position: relative; height: 10px; width: 120px; background-color: #B55690;'></div><div style='position: relative; height: 10px; width: 120px; background-color: #B55690;'></div><div style='position: relative; height: 10px; width: 120px; background-color: #B55690;'></div><p style='text-align: center; margin: 4px 0 0 0'>aaaaaaaaa</p></div></div>\n",
       "    "
      ],
      "text/plain": [
       "<IPython.core.display.HTML object>"
      ]
     },
     "metadata": {
      "isolated": true
     },
     "output_type": "display_data"
    }
   ],
   "source": [
    "show_html(wordsToFlagGrid([\"lesbian\", \"les\", \"bian\", \"AAAAAAAAA\"]))"
   ]
  },
  {
   "cell_type": "code",
   "execution_count": 36,
   "id": "5d243c78-dc66-4dee-85a1-68d74ebd4312",
   "metadata": {},
   "outputs": [
    {
     "data": {
      "text/html": [
       "\n",
       "    <style>\n",
       "        body {\n",
       "            background-color: #bdbdbd !important;\n",
       "        }\n",
       "    </style>\n",
       "    <div style='width: 100%; display: flex; flex-wrap: wrap; align-items: flex-end; justify-content: center; gap: 24px; padding-bottom: 24px; position: absolute;'><div style='position: relative; display: flex; flex-direction: column; align-items: center;'><div style='position: relative; height: 10px; width: 120px; background-color: #D52D00;'></div><div style='position: relative; height: 10px; width: 120px; background-color: #EF7627;'></div><div style='position: relative; height: 10px; width: 120px; background-color: #FF9A56;'></div><div style='position: relative; height: 10px; width: 120px; background-color: #FFFFFF;'></div><div style='position: relative; height: 10px; width: 120px; background-color: #D162A4;'></div><div style='position: relative; height: 10px; width: 120px; background-color: #B55690;'></div><div style='position: relative; height: 10px; width: 120px; background-color: #A30262;'></div><p style='text-align: center; margin: 4px 0 0 0'>lesbian</p></div><div style='position: relative; display: flex; flex-direction: column; align-items: center;'><div style='position: relative; height: 10px; width: 120px; background-color: #FFFFFF;'></div><div style='position: relative; height: 10px; width: 120px; background-color: #B55690;'></div><div style='position: relative; height: 10px; width: 120px; background-color: #FF9A56;'></div><div style='position: relative; height: 10px; width: 120px; background-color: #D162A4;'></div><div style='position: relative; height: 10px; width: 120px; background-color: #FF9A56;'></div><p style='text-align: center; margin: 4px 0 0 0'>basis</p></div><div style='position: relative; display: flex; flex-direction: column; align-items: center;'><div style='position: relative; height: 10px; width: 120px; background-color: #FFFFFF;'></div><div style='position: relative; height: 10px; width: 120px; background-color: #D162A4;'></div><div style='position: relative; height: 10px; width: 120px; background-color: #B55690;'></div><div style='position: relative; height: 10px; width: 120px; background-color: #FF9A56;'></div><div style='position: relative; height: 10px; width: 120px; background-color: #EF7627;'></div><div style='position: relative; height: 10px; width: 120px; background-color: #FF9A56;'></div><p style='text-align: center; margin: 4px 0 0 0'>biases</p></div><div style='position: relative; display: flex; flex-direction: column; align-items: center;'><div style='position: relative; height: 10px; width: 120px; background-color: #D162A4;'></div><div style='position: relative; height: 10px; width: 120px; background-color: #B55690;'></div><div style='position: relative; height: 10px; width: 120px; background-color: #A30262;'></div><p style='text-align: center; margin: 4px 0 0 0'>ian</p></div><div style='position: relative; display: flex; flex-direction: column; align-items: center;'><div style='position: relative; height: 10px; width: 120px; background-color: #FFFFFF;'></div><div style='position: relative; height: 10px; width: 120px; background-color: #D162A4;'></div><div style='position: relative; height: 10px; width: 120px; background-color: #D52D00;'></div><div style='position: relative; height: 10px; width: 120px; background-color: #B55690;'></div><div style='position: relative; height: 10px; width: 120px; background-color: #FFFFFF;'></div><div style='position: relative; height: 10px; width: 120px; background-color: #D162A4;'></div><div style='position: relative; height: 10px; width: 120px; background-color: #B55690;'></div><div style='position: relative; height: 10px; width: 120px; background-color: #D52D00;'></div><p style='text-align: center; margin: 4px 0 0 0'>bilabial</p></div><div style='position: relative; display: flex; flex-direction: column; align-items: center;'><div style='position: relative; height: 10px; width: 120px; background-color: #EF7627;'></div><div style='position: relative; height: 10px; width: 120px; background-color: #D52D00;'></div><div style='position: relative; height: 10px; width: 120px; background-color: #D162A4;'></div><p style='text-align: center; margin: 4px 0 0 0'>eli</p></div><div style='position: relative; display: flex; flex-direction: column; align-items: center;'><div style='position: relative; height: 10px; width: 120px; background-color: #FF9A56;'></div><div style='position: relative; height: 10px; width: 120px; background-color: #EF7627;'></div><div style='position: relative; height: 10px; width: 120px; background-color: #A30262;'></div><div style='position: relative; height: 10px; width: 120px; background-color: #FF9A56;'></div><div style='position: relative; height: 10px; width: 120px; background-color: #EF7627;'></div><p style='text-align: center; margin: 4px 0 0 0'>sense</p></div><div style='position: relative; display: flex; flex-direction: column; align-items: center;'><div style='position: relative; height: 10px; width: 120px; background-color: #D52D00;'></div><div style='position: relative; height: 10px; width: 120px; background-color: #EF7627;'></div><div style='position: relative; height: 10px; width: 120px; background-color: #B55690;'></div><div style='position: relative; height: 10px; width: 120px; background-color: #A30262;'></div><p style='text-align: center; margin: 4px 0 0 0'>lean</p></div><div style='position: relative; display: flex; flex-direction: column; align-items: center;'><div style='position: relative; height: 10px; width: 120px; background-color: #FF9A56;'></div><div style='position: relative; height: 10px; width: 120px; background-color: #B55690;'></div><div style='position: relative; height: 10px; width: 120px; background-color: #D52D00;'></div><div style='position: relative; height: 10px; width: 120px; background-color: #D52D00;'></div><div style='position: relative; height: 10px; width: 120px; background-color: #D162A4;'></div><div style='position: relative; height: 10px; width: 120px; background-color: #EF7627;'></div><div style='position: relative; height: 10px; width: 120px; background-color: #FF9A56;'></div><p style='text-align: center; margin: 4px 0 0 0'>sallies</p></div><div style='position: relative; display: flex; flex-direction: column; align-items: center;'><div style='position: relative; height: 10px; width: 120px; background-color: #FFFFFF;'></div><div style='position: relative; height: 10px; width: 120px; background-color: #D162A4;'></div><div style='position: relative; height: 10px; width: 120px; background-color: #A30262;'></div><div style='position: relative; height: 10px; width: 120px; background-color: #D162A4;'></div><p style='text-align: center; margin: 4px 0 0 0'>bini</p></div><div style='position: relative; display: flex; flex-direction: column; align-items: center;'><div style='position: relative; height: 10px; width: 120px; background-color: #FFFFFF;'></div><div style='position: relative; height: 10px; width: 120px; background-color: #B55690;'></div><div style='position: relative; height: 10px; width: 120px; background-color: #D52D00;'></div><div style='position: relative; height: 10px; width: 120px; background-color: #D162A4;'></div><div style='position: relative; height: 10px; width: 120px; background-color: #A30262;'></div><div style='position: relative; height: 10px; width: 120px; background-color: #EF7627;'></div><div style='position: relative; height: 10px; width: 120px; background-color: #FF9A56;'></div><div style='position: relative; height: 10px; width: 120px; background-color: #EF7627;'></div><p style='text-align: center; margin: 4px 0 0 0'>balinese</p></div><div style='position: relative; display: flex; flex-direction: column; align-items: center;'><div style='position: relative; height: 10px; width: 120px; background-color: #FF9A56;'></div><div style='position: relative; height: 10px; width: 120px; background-color: #D162A4;'></div><div style='position: relative; height: 10px; width: 120px; background-color: #A30262;'></div><div style='position: relative; height: 10px; width: 120px; background-color: #EF7627;'></div><div style='position: relative; height: 10px; width: 120px; background-color: #FF9A56;'></div><p style='text-align: center; margin: 4px 0 0 0'>sines</p></div><div style='position: relative; display: flex; flex-direction: column; align-items: center;'><div style='position: relative; height: 10px; width: 120px; background-color: #D162A4;'></div><div style='position: relative; height: 10px; width: 120px; background-color: #FFFFFF;'></div><div style='position: relative; height: 10px; width: 120px; background-color: #D162A4;'></div><div style='position: relative; height: 10px; width: 120px; background-color: #FF9A56;'></div><p style='text-align: center; margin: 4px 0 0 0'>ibis</p></div><div style='position: relative; display: flex; flex-direction: column; align-items: center;'><div style='position: relative; height: 10px; width: 120px; background-color: #FF9A56;'></div><div style='position: relative; height: 10px; width: 120px; background-color: #D162A4;'></div><div style='position: relative; height: 10px; width: 120px; background-color: #D52D00;'></div><div style='position: relative; height: 10px; width: 120px; background-color: #B55690;'></div><div style='position: relative; height: 10px; width: 120px; background-color: #FF9A56;'></div><p style='text-align: center; margin: 4px 0 0 0'>silas</p></div><div style='position: relative; display: flex; flex-direction: column; align-items: center;'><div style='position: relative; height: 10px; width: 120px; background-color: #D162A4;'></div><div style='position: relative; height: 10px; width: 120px; background-color: #FFFFFF;'></div><div style='position: relative; height: 10px; width: 120px; background-color: #FF9A56;'></div><div style='position: relative; height: 10px; width: 120px; background-color: #EF7627;'></div><div style='position: relative; height: 10px; width: 120px; background-color: #A30262;'></div><p style='text-align: center; margin: 4px 0 0 0'>ibsen</p></div><div style='position: relative; display: flex; flex-direction: column; align-items: center;'><div style='position: relative; height: 10px; width: 120px; background-color: #A30262;'></div><div style='position: relative; height: 10px; width: 120px; background-color: #D162A4;'></div><div style='position: relative; height: 10px; width: 120px; background-color: #A30262;'></div><div style='position: relative; height: 10px; width: 120px; background-color: #B55690;'></div><p style='text-align: center; margin: 4px 0 0 0'>nina</p></div><div style='position: relative; display: flex; flex-direction: column; align-items: center;'><div style='position: relative; height: 10px; width: 120px; background-color: #D52D00;'></div><div style='position: relative; height: 10px; width: 120px; background-color: #D162A4;'></div><div style='position: relative; height: 10px; width: 120px; background-color: #D52D00;'></div><div style='position: relative; height: 10px; width: 120px; background-color: #D162A4;'></div><div style='position: relative; height: 10px; width: 120px; background-color: #EF7627;'></div><div style='position: relative; height: 10px; width: 120px; background-color: #FF9A56;'></div><p style='text-align: center; margin: 4px 0 0 0'>lilies</p></div><div style='position: relative; display: flex; flex-direction: column; align-items: center;'><div style='position: relative; height: 10px; width: 120px; background-color: #B55690;'></div><div style='position: relative; height: 10px; width: 120px; background-color: #FFFFFF;'></div><div style='position: relative; height: 10px; width: 120px; background-color: #EF7627;'></div><div style='position: relative; height: 10px; width: 120px; background-color: #D52D00;'></div><div style='position: relative; height: 10px; width: 120px; background-color: #D162A4;'></div><div style='position: relative; height: 10px; width: 120px; background-color: #B55690;'></div><div style='position: relative; height: 10px; width: 120px; background-color: #A30262;'></div><p style='text-align: center; margin: 4px 0 0 0'>abelian</p></div><div style='position: relative; display: flex; flex-direction: column; align-items: center;'><div style='position: relative; height: 10px; width: 120px; background-color: #FF9A56;'></div><div style='position: relative; height: 10px; width: 120px; background-color: #B55690;'></div><div style='position: relative; height: 10px; width: 120px; background-color: #D162A4;'></div><div style='position: relative; height: 10px; width: 120px; background-color: #D52D00;'></div><div style='position: relative; height: 10px; width: 120px; background-color: #FF9A56;'></div><p style='text-align: center; margin: 4px 0 0 0'>sails</p></div><div style='position: relative; display: flex; flex-direction: column; align-items: center;'><div style='position: relative; height: 10px; width: 120px; background-color: #EF7627;'></div><div style='position: relative; height: 10px; width: 120px; background-color: #D52D00;'></div><div style='position: relative; height: 10px; width: 120px; background-color: #FFFFFF;'></div><div style='position: relative; height: 10px; width: 120px; background-color: #B55690;'></div><p style='text-align: center; margin: 4px 0 0 0'>elba</p></div><div style='position: relative; display: flex; flex-direction: column; align-items: center;'><div style='position: relative; height: 10px; width: 120px; background-color: #A30262;'></div><div style='position: relative; height: 10px; width: 120px; background-color: #D162A4;'></div><div style='position: relative; height: 10px; width: 120px; background-color: #D52D00;'></div><div style='position: relative; height: 10px; width: 120px; background-color: #FF9A56;'></div><div style='position: relative; height: 10px; width: 120px; background-color: #EF7627;'></div><div style='position: relative; height: 10px; width: 120px; background-color: #A30262;'></div><p style='text-align: center; margin: 4px 0 0 0'>nilsen</p></div><div style='position: relative; display: flex; flex-direction: column; align-items: center;'><div style='position: relative; height: 10px; width: 120px; background-color: #FFFFFF;'></div><div style='position: relative; height: 10px; width: 120px; background-color: #B55690;'></div><div style='position: relative; height: 10px; width: 120px; background-color: #D52D00;'></div><div style='position: relative; height: 10px; width: 120px; background-color: #D52D00;'></div><div style='position: relative; height: 10px; width: 120px; background-color: #FF9A56;'></div><p style='text-align: center; margin: 4px 0 0 0'>balls</p></div><div style='position: relative; display: flex; flex-direction: column; align-items: center;'><div style='position: relative; height: 10px; width: 120px; background-color: #B55690;'></div><div style='position: relative; height: 10px; width: 120px; background-color: #FF9A56;'></div><div style='position: relative; height: 10px; width: 120px; background-color: #FF9A56;'></div><div style='position: relative; height: 10px; width: 120px; background-color: #B55690;'></div><div style='position: relative; height: 10px; width: 120px; background-color: #D162A4;'></div><div style='position: relative; height: 10px; width: 120px; background-color: #D52D00;'></div><p style='text-align: center; margin: 4px 0 0 0'>assail</p></div><div style='position: relative; display: flex; flex-direction: column; align-items: center;'><div style='position: relative; height: 10px; width: 120px; background-color: #B55690;'></div><div style='position: relative; height: 10px; width: 120px; background-color: #FFFFFF;'></div><div style='position: relative; height: 10px; width: 120px; background-color: #D162A4;'></div><div style='position: relative; height: 10px; width: 120px; background-color: #D52D00;'></div><div style='position: relative; height: 10px; width: 120px; background-color: #EF7627;'></div><div style='position: relative; height: 10px; width: 120px; background-color: #A30262;'></div><div style='position: relative; height: 10px; width: 120px; background-color: #EF7627;'></div><p style='text-align: center; margin: 4px 0 0 0'>abilene</p></div><div style='position: relative; display: flex; flex-direction: column; align-items: center;'><div style='position: relative; height: 10px; width: 120px; background-color: #D52D00;'></div><div style='position: relative; height: 10px; width: 120px; background-color: #EF7627;'></div><div style='position: relative; height: 10px; width: 120px; background-color: #FFFFFF;'></div><div style='position: relative; height: 10px; width: 120px; background-color: #B55690;'></div><div style='position: relative; height: 10px; width: 120px; background-color: #A30262;'></div><div style='position: relative; height: 10px; width: 120px; background-color: #EF7627;'></div><div style='position: relative; height: 10px; width: 120px; background-color: #FF9A56;'></div><div style='position: relative; height: 10px; width: 120px; background-color: #EF7627;'></div><p style='text-align: center; margin: 4px 0 0 0'>lebanese</p></div><div style='position: relative; display: flex; flex-direction: column; align-items: center;'><div style='position: relative; height: 10px; width: 120px; background-color: #A30262;'></div><div style='position: relative; height: 10px; width: 120px; background-color: #EF7627;'></div><div style='position: relative; height: 10px; width: 120px; background-color: #D52D00;'></div><div style='position: relative; height: 10px; width: 120px; background-color: #D52D00;'></div><p style='text-align: center; margin: 4px 0 0 0'>nell</p></div></div>\n",
       "    "
      ],
      "text/plain": [
       "<IPython.core.display.HTML object>"
      ]
     },
     "metadata": {
      "isolated": true
     },
     "output_type": "display_data"
    }
   ],
   "source": [
    "import random\n",
    "\n",
    "randomGayWords = random.sample(gayWords, 25)\n",
    "flagGrid = wordsToFlagGrid([\"lesbian\", *randomGayWords])\n",
    "show_html(flagGrid)"
   ]
  },
  {
   "cell_type": "markdown",
   "id": "499e1bba-46d0-4996-831d-d74de0a5d7cd",
   "metadata": {},
   "source": [
    "It's interesting to see the variation in word length here, these almost feel like bar graphs for number of letters in a word. The longest words I've seen are \"silliness\" and \"senselessness\". Also of course lots of pluralized nouns since we have the \"s\". The list of valid \"lesbian\" words above is essentially half the size if appears to be since almost every noun is counted twice after it's pluralized. I see some words that are missing from the plaintext word list though. For example, we have \"babes\" but not \"babe.\""
   ]
  },
  {
   "cell_type": "markdown",
   "id": "3b973912-398d-474e-9888-f6bb3620d2bc",
   "metadata": {},
   "source": [
    "One feature that adds to the meme's humor is that nonsensical words are included, like \"sssss\" or \"bbibbi\". I wanted to generate some of these random syllables to mix in with valid words. I wanted pronounceable syllables that obey English phonotactic rules. The below code is definitely overkill for how few letters/phonemes are in the word \"lesbian\", but I was a bit of a syllable nerd in my linguistics classes.\n",
    "\n",
    "English syllable structure is COMPLEX compared to other languages (/strength/ = CCCVCCC? gross.) so this is a hard problem to solve programmatically."
   ]
  },
  {
   "cell_type": "code",
   "execution_count": 37,
   "id": "6b259dbd-43d0-4a53-96d9-caf859089c8d",
   "metadata": {},
   "outputs": [],
   "source": [
    "#https://en.wikipedia.org/wiki/Sonority_hierarchy\n",
    "\n",
    "sonorityScale = {\n",
    "    0: [\"b\"],           # stops\n",
    "    1: [\"s\"],           # fricatives\n",
    "    2: [\"n\"],           # nasals\n",
    "    3: [\"l\"],           # laterals\n",
    "    4: [\"a\", \"e\", \"i\"], # vowels\n",
    "}\n",
    "\n",
    "# lol this pattern breaks down so quickly if i add more phonemes but oh well\n",
    "sonorityTransitions = {\n",
    "    0: [3, 4],\n",
    "    1: [2, 3, 4],\n",
    "    2: [4],\n",
    "    3: [4],\n",
    "    4: [],\n",
    "}\n",
    "\n",
    "# i thought i would come back later to implement syllable codas but i Did Not\n",
    "def randomSyllable(coda=False):\n",
    "    syllable = \"\"\n",
    "    i = random.randint(0, 4)\n",
    "    while i < 4:\n",
    "        syllable += random.choice(sonorityScale[i])\n",
    "        i = random.choice(sonorityTransitions[i])\n",
    "    syllable += random.choice(sonorityScale[4])\n",
    "    return syllable"
   ]
  },
  {
   "cell_type": "code",
   "execution_count": 43,
   "id": "1fa278a2-586c-4af8-9bcf-f9ff4449c2de",
   "metadata": {},
   "outputs": [
    {
     "data": {
      "text/html": [
       "\n",
       "    <style>\n",
       "        body {\n",
       "            background-color: #bdbdbd !important;\n",
       "        }\n",
       "    </style>\n",
       "    <div style='width: 100%; display: flex; flex-wrap: wrap; align-items: flex-end; justify-content: center; gap: 24px; padding-bottom: 24px; position: absolute;'><div style='position: relative; display: flex; flex-direction: column; align-items: center;'><div style='position: relative; height: 10px; width: 120px; background-color: #FFFFFF;'></div><div style='position: relative; height: 10px; width: 120px; background-color: #D52D00;'></div><div style='position: relative; height: 10px; width: 120px; background-color: #D162A4;'></div><div style='position: relative; height: 10px; width: 120px; background-color: #FFFFFF;'></div><div style='position: relative; height: 10px; width: 120px; background-color: #D52D00;'></div><div style='position: relative; height: 10px; width: 120px; background-color: #D162A4;'></div><div style='position: relative; height: 10px; width: 120px; background-color: #FFFFFF;'></div><div style='position: relative; height: 10px; width: 120px; background-color: #D52D00;'></div><div style='position: relative; height: 10px; width: 120px; background-color: #D162A4;'></div><div style='position: relative; height: 10px; width: 120px; background-color: #FFFFFF;'></div><div style='position: relative; height: 10px; width: 120px; background-color: #D52D00;'></div><div style='position: relative; height: 10px; width: 120px; background-color: #D162A4;'></div><div style='position: relative; height: 10px; width: 120px; background-color: #FFFFFF;'></div><div style='position: relative; height: 10px; width: 120px; background-color: #D52D00;'></div><div style='position: relative; height: 10px; width: 120px; background-color: #D162A4;'></div><p style='text-align: center; margin: 4px 0 0 0'>bliblibliblibli</p></div><div style='position: relative; display: flex; flex-direction: column; align-items: center;'><div style='position: relative; height: 10px; width: 120px; background-color: #D52D00;'></div><div style='position: relative; height: 10px; width: 120px; background-color: #EF7627;'></div><div style='position: relative; height: 10px; width: 120px; background-color: #D52D00;'></div><div style='position: relative; height: 10px; width: 120px; background-color: #EF7627;'></div><div style='position: relative; height: 10px; width: 120px; background-color: #D52D00;'></div><div style='position: relative; height: 10px; width: 120px; background-color: #EF7627;'></div><div style='position: relative; height: 10px; width: 120px; background-color: #D52D00;'></div><div style='position: relative; height: 10px; width: 120px; background-color: #EF7627;'></div><div style='position: relative; height: 10px; width: 120px; background-color: #D52D00;'></div><div style='position: relative; height: 10px; width: 120px; background-color: #EF7627;'></div><p style='text-align: center; margin: 4px 0 0 0'>lelelelele</p></div><div style='position: relative; display: flex; flex-direction: column; align-items: center;'><div style='position: relative; height: 10px; width: 120px; background-color: #D162A4;'></div><div style='position: relative; height: 10px; width: 120px; background-color: #D162A4;'></div><div style='position: relative; height: 10px; width: 120px; background-color: #D162A4;'></div><p style='text-align: center; margin: 4px 0 0 0'>iii</p></div><div style='position: relative; display: flex; flex-direction: column; align-items: center;'><div style='position: relative; height: 10px; width: 120px; background-color: #EF7627;'></div><div style='position: relative; height: 10px; width: 120px; background-color: #EF7627;'></div><div style='position: relative; height: 10px; width: 120px; background-color: #EF7627;'></div><div style='position: relative; height: 10px; width: 120px; background-color: #EF7627;'></div><div style='position: relative; height: 10px; width: 120px; background-color: #EF7627;'></div><div style='position: relative; height: 10px; width: 120px; background-color: #EF7627;'></div><div style='position: relative; height: 10px; width: 120px; background-color: #EF7627;'></div><div style='position: relative; height: 10px; width: 120px; background-color: #EF7627;'></div><div style='position: relative; height: 10px; width: 120px; background-color: #EF7627;'></div><div style='position: relative; height: 10px; width: 120px; background-color: #EF7627;'></div><p style='text-align: center; margin: 4px 0 0 0'>eeeeeeeeee</p></div><div style='position: relative; display: flex; flex-direction: column; align-items: center;'><div style='position: relative; height: 10px; width: 120px; background-color: #FFFFFF;'></div><div style='position: relative; height: 10px; width: 120px; background-color: #D162A4;'></div><div style='position: relative; height: 10px; width: 120px; background-color: #FFFFFF;'></div><div style='position: relative; height: 10px; width: 120px; background-color: #D162A4;'></div><p style='text-align: center; margin: 4px 0 0 0'>bibi</p></div><div style='position: relative; display: flex; flex-direction: column; align-items: center;'><div style='position: relative; height: 10px; width: 120px; background-color: #D52D00;'></div><div style='position: relative; height: 10px; width: 120px; background-color: #B55690;'></div><div style='position: relative; height: 10px; width: 120px; background-color: #D52D00;'></div><div style='position: relative; height: 10px; width: 120px; background-color: #B55690;'></div><div style='position: relative; height: 10px; width: 120px; background-color: #D52D00;'></div><div style='position: relative; height: 10px; width: 120px; background-color: #B55690;'></div><div style='position: relative; height: 10px; width: 120px; background-color: #D52D00;'></div><div style='position: relative; height: 10px; width: 120px; background-color: #B55690;'></div><div style='position: relative; height: 10px; width: 120px; background-color: #D52D00;'></div><div style='position: relative; height: 10px; width: 120px; background-color: #B55690;'></div><p style='text-align: center; margin: 4px 0 0 0'>lalalalala</p></div><div style='position: relative; display: flex; flex-direction: column; align-items: center;'><div style='position: relative; height: 10px; width: 120px; background-color: #FFFFFF;'></div><div style='position: relative; height: 10px; width: 120px; background-color: #D52D00;'></div><div style='position: relative; height: 10px; width: 120px; background-color: #EF7627;'></div><div style='position: relative; height: 10px; width: 120px; background-color: #FFFFFF;'></div><div style='position: relative; height: 10px; width: 120px; background-color: #D52D00;'></div><div style='position: relative; height: 10px; width: 120px; background-color: #EF7627;'></div><div style='position: relative; height: 10px; width: 120px; background-color: #FFFFFF;'></div><div style='position: relative; height: 10px; width: 120px; background-color: #D52D00;'></div><div style='position: relative; height: 10px; width: 120px; background-color: #EF7627;'></div><p style='text-align: center; margin: 4px 0 0 0'>blebleble</p></div><div style='position: relative; display: flex; flex-direction: column; align-items: center;'><div style='position: relative; height: 10px; width: 120px; background-color: #D52D00;'></div><div style='position: relative; height: 10px; width: 120px; background-color: #D162A4;'></div><div style='position: relative; height: 10px; width: 120px; background-color: #D52D00;'></div><div style='position: relative; height: 10px; width: 120px; background-color: #D162A4;'></div><div style='position: relative; height: 10px; width: 120px; background-color: #D52D00;'></div><div style='position: relative; height: 10px; width: 120px; background-color: #D162A4;'></div><p style='text-align: center; margin: 4px 0 0 0'>lilili</p></div><div style='position: relative; display: flex; flex-direction: column; align-items: center;'><div style='position: relative; height: 10px; width: 120px; background-color: #EF7627;'></div><div style='position: relative; height: 10px; width: 120px; background-color: #EF7627;'></div><div style='position: relative; height: 10px; width: 120px; background-color: #EF7627;'></div><div style='position: relative; height: 10px; width: 120px; background-color: #EF7627;'></div><div style='position: relative; height: 10px; width: 120px; background-color: #EF7627;'></div><div style='position: relative; height: 10px; width: 120px; background-color: #EF7627;'></div><p style='text-align: center; margin: 4px 0 0 0'>eeeeee</p></div><div style='position: relative; display: flex; flex-direction: column; align-items: center;'><div style='position: relative; height: 10px; width: 120px; background-color: #FF9A56;'></div><div style='position: relative; height: 10px; width: 120px; background-color: #D52D00;'></div><div style='position: relative; height: 10px; width: 120px; background-color: #D162A4;'></div><div style='position: relative; height: 10px; width: 120px; background-color: #FF9A56;'></div><div style='position: relative; height: 10px; width: 120px; background-color: #D52D00;'></div><div style='position: relative; height: 10px; width: 120px; background-color: #D162A4;'></div><div style='position: relative; height: 10px; width: 120px; background-color: #FF9A56;'></div><div style='position: relative; height: 10px; width: 120px; background-color: #D52D00;'></div><div style='position: relative; height: 10px; width: 120px; background-color: #D162A4;'></div><div style='position: relative; height: 10px; width: 120px; background-color: #FF9A56;'></div><div style='position: relative; height: 10px; width: 120px; background-color: #D52D00;'></div><div style='position: relative; height: 10px; width: 120px; background-color: #D162A4;'></div><p style='text-align: center; margin: 4px 0 0 0'>slislislisli</p></div></div>\n",
       "    "
      ],
      "text/plain": [
       "<IPython.core.display.HTML object>"
      ]
     },
     "metadata": {
      "isolated": true
     },
     "output_type": "display_data"
    }
   ],
   "source": [
    "def getRandomSyllables(n, minSyl=2, maxSyl=10):\n",
    "    randomSyllables = []\n",
    "    for i in range(n):\n",
    "        randomDup = random.randint(minSyl, maxSyl)\n",
    "        syllable = randomSyllable()\n",
    "        randomSyllables.append(syllable * randomDup)\n",
    "    return randomSyllables\n",
    "    \n",
    "flagGrid = wordsToFlagGrid(getRandomSyllables(10))\n",
    "show_html(flagGrid)"
   ]
  },
  {
   "cell_type": "code",
   "execution_count": 38,
   "id": "220f414a-f76f-4dc4-966c-673187d5289f",
   "metadata": {},
   "outputs": [
    {
     "data": {
      "text/plain": [
       "17622"
      ]
     },
     "execution_count": 38,
     "metadata": {},
     "output_type": "execute_result"
    }
   ],
   "source": [
    "open(\"syllables3.html\", \"w\").write(flagGrid)"
   ]
  },
  {
   "cell_type": "markdown",
   "id": "8ff50633-aa70-474a-8490-421c7bbb1588",
   "metadata": {},
   "source": [
    "This is just screaming to be fed through my browser's default text to speech feature. I had a hard time capturing a video with sound to include here, but it's hilarious."
   ]
  },
  {
   "cell_type": "markdown",
   "id": "2390ad76-e68e-4b92-a3c5-3fa62b5ac693",
   "metadata": {},
   "source": [
    "How do the fake syllable words look alongside real words? From looking at the stripes it's pretty clear which ones have repeated characters and which don't. This output is even funnier to run through text to speech because the random sounds in between real words really confuses the intonation"
   ]
  },
  {
   "cell_type": "code",
   "execution_count": 47,
   "id": "77125526-596e-4059-b3aa-24b7c59c53a8",
   "metadata": {
    "scrolled": true
   },
   "outputs": [
    {
     "data": {
      "text/html": [
       "\n",
       "    <style>\n",
       "        body {\n",
       "            background-color: #bdbdbd !important;\n",
       "        }\n",
       "    </style>\n",
       "    <div style='width: 100%; display: flex; flex-wrap: wrap; align-items: flex-end; justify-content: center; gap: 24px; padding-bottom: 24px; position: absolute;'><div style='position: relative; display: flex; flex-direction: column; align-items: center;'><div style='position: relative; height: 10px; width: 120px; background-color: #FF9A56;'></div><div style='position: relative; height: 10px; width: 120px; background-color: #EF7627;'></div><div style='position: relative; height: 10px; width: 120px; background-color: #B55690;'></div><div style='position: relative; height: 10px; width: 120px; background-color: #D52D00;'></div><div style='position: relative; height: 10px; width: 120px; background-color: #FF9A56;'></div><p style='text-align: center; margin: 4px 0 0 0'>seals</p></div><div style='position: relative; display: flex; flex-direction: column; align-items: center;'><div style='position: relative; height: 10px; width: 120px; background-color: #FFFFFF;'></div><div style='position: relative; height: 10px; width: 120px; background-color: #B55690;'></div><div style='position: relative; height: 10px; width: 120px; background-color: #FFFFFF;'></div><div style='position: relative; height: 10px; width: 120px; background-color: #EF7627;'></div><div style='position: relative; height: 10px; width: 120px; background-color: #D52D00;'></div><p style='text-align: center; margin: 4px 0 0 0'>babel</p></div><div style='position: relative; display: flex; flex-direction: column; align-items: center;'><div style='position: relative; height: 10px; width: 120px; background-color: #B55690;'></div><div style='position: relative; height: 10px; width: 120px; background-color: #FFFFFF;'></div><div style='position: relative; height: 10px; width: 120px; background-color: #EF7627;'></div><div style='position: relative; height: 10px; width: 120px; background-color: #D52D00;'></div><div style='position: relative; height: 10px; width: 120px; background-color: #D162A4;'></div><div style='position: relative; height: 10px; width: 120px; background-color: #B55690;'></div><div style='position: relative; height: 10px; width: 120px; background-color: #A30262;'></div><p style='text-align: center; margin: 4px 0 0 0'>abelian</p></div><div style='position: relative; display: flex; flex-direction: column; align-items: center;'><div style='position: relative; height: 10px; width: 120px; background-color: #A30262;'></div><div style='position: relative; height: 10px; width: 120px; background-color: #B55690;'></div><div style='position: relative; height: 10px; width: 120px; background-color: #A30262;'></div><div style='position: relative; height: 10px; width: 120px; background-color: #B55690;'></div><div style='position: relative; height: 10px; width: 120px; background-color: #A30262;'></div><div style='position: relative; height: 10px; width: 120px; background-color: #B55690;'></div><div style='position: relative; height: 10px; width: 120px; background-color: #A30262;'></div><div style='position: relative; height: 10px; width: 120px; background-color: #B55690;'></div><p style='text-align: center; margin: 4px 0 0 0'>nananana</p></div><div style='position: relative; display: flex; flex-direction: column; align-items: center;'><div style='position: relative; height: 10px; width: 120px; background-color: #FF9A56;'></div><div style='position: relative; height: 10px; width: 120px; background-color: #EF7627;'></div><div style='position: relative; height: 10px; width: 120px; background-color: #FF9A56;'></div><div style='position: relative; height: 10px; width: 120px; background-color: #EF7627;'></div><div style='position: relative; height: 10px; width: 120px; background-color: #FF9A56;'></div><div style='position: relative; height: 10px; width: 120px; background-color: #EF7627;'></div><p style='text-align: center; margin: 4px 0 0 0'>sesese</p></div><div style='position: relative; display: flex; flex-direction: column; align-items: center;'><div style='position: relative; height: 10px; width: 120px; background-color: #D162A4;'></div><div style='position: relative; height: 10px; width: 120px; background-color: #D162A4;'></div><div style='position: relative; height: 10px; width: 120px; background-color: #D162A4;'></div><div style='position: relative; height: 10px; width: 120px; background-color: #D162A4;'></div><p style='text-align: center; margin: 4px 0 0 0'>iiii</p></div><div style='position: relative; display: flex; flex-direction: column; align-items: center;'><div style='position: relative; height: 10px; width: 120px; background-color: #FFFFFF;'></div><div style='position: relative; height: 10px; width: 120px; background-color: #EF7627;'></div><div style='position: relative; height: 10px; width: 120px; background-color: #FFFFFF;'></div><div style='position: relative; height: 10px; width: 120px; background-color: #EF7627;'></div><div style='position: relative; height: 10px; width: 120px; background-color: #FFFFFF;'></div><div style='position: relative; height: 10px; width: 120px; background-color: #EF7627;'></div><p style='text-align: center; margin: 4px 0 0 0'>bebebe</p></div><div style='position: relative; display: flex; flex-direction: column; align-items: center;'><div style='position: relative; height: 10px; width: 120px; background-color: #FFFFFF;'></div><div style='position: relative; height: 10px; width: 120px; background-color: #D162A4;'></div><div style='position: relative; height: 10px; width: 120px; background-color: #FFFFFF;'></div><div style='position: relative; height: 10px; width: 120px; background-color: #D162A4;'></div><div style='position: relative; height: 10px; width: 120px; background-color: #FFFFFF;'></div><div style='position: relative; height: 10px; width: 120px; background-color: #D162A4;'></div><div style='position: relative; height: 10px; width: 120px; background-color: #FFFFFF;'></div><div style='position: relative; height: 10px; width: 120px; background-color: #D162A4;'></div><p style='text-align: center; margin: 4px 0 0 0'>bibibibi</p></div><div style='position: relative; display: flex; flex-direction: column; align-items: center;'><div style='position: relative; height: 10px; width: 120px; background-color: #B55690;'></div><div style='position: relative; height: 10px; width: 120px; background-color: #B55690;'></div><div style='position: relative; height: 10px; width: 120px; background-color: #B55690;'></div><div style='position: relative; height: 10px; width: 120px; background-color: #B55690;'></div><p style='text-align: center; margin: 4px 0 0 0'>aaaa</p></div><div style='position: relative; display: flex; flex-direction: column; align-items: center;'><div style='position: relative; height: 10px; width: 120px; background-color: #B55690;'></div><div style='position: relative; height: 10px; width: 120px; background-color: #D52D00;'></div><div style='position: relative; height: 10px; width: 120px; background-color: #D162A4;'></div><div style='position: relative; height: 10px; width: 120px; background-color: #FFFFFF;'></div><div style='position: relative; height: 10px; width: 120px; background-color: #D162A4;'></div><div style='position: relative; height: 10px; width: 120px; background-color: #FF9A56;'></div><p style='text-align: center; margin: 4px 0 0 0'>alibis</p></div><div style='position: relative; display: flex; flex-direction: column; align-items: center;'><div style='position: relative; height: 10px; width: 120px; background-color: #FFFFFF;'></div><div style='position: relative; height: 10px; width: 120px; background-color: #EF7627;'></div><div style='position: relative; height: 10px; width: 120px; background-color: #B55690;'></div><div style='position: relative; height: 10px; width: 120px; background-color: #A30262;'></div><p style='text-align: center; margin: 4px 0 0 0'>bean</p></div><div style='position: relative; display: flex; flex-direction: column; align-items: center;'><div style='position: relative; height: 10px; width: 120px; background-color: #FFFFFF;'></div><div style='position: relative; height: 10px; width: 120px; background-color: #EF7627;'></div><div style='position: relative; height: 10px; width: 120px; background-color: #FFFFFF;'></div><div style='position: relative; height: 10px; width: 120px; background-color: #EF7627;'></div><div style='position: relative; height: 10px; width: 120px; background-color: #FFFFFF;'></div><div style='position: relative; height: 10px; width: 120px; background-color: #EF7627;'></div><p style='text-align: center; margin: 4px 0 0 0'>bebebe</p></div><div style='position: relative; display: flex; flex-direction: column; align-items: center;'><div style='position: relative; height: 10px; width: 120px; background-color: #A30262;'></div><div style='position: relative; height: 10px; width: 120px; background-color: #D162A4;'></div><div style='position: relative; height: 10px; width: 120px; background-color: #A30262;'></div><div style='position: relative; height: 10px; width: 120px; background-color: #D162A4;'></div><div style='position: relative; height: 10px; width: 120px; background-color: #A30262;'></div><div style='position: relative; height: 10px; width: 120px; background-color: #D162A4;'></div><p style='text-align: center; margin: 4px 0 0 0'>ninini</p></div><div style='position: relative; display: flex; flex-direction: column; align-items: center;'><div style='position: relative; height: 10px; width: 120px; background-color: #FF9A56;'></div><div style='position: relative; height: 10px; width: 120px; background-color: #A30262;'></div><div style='position: relative; height: 10px; width: 120px; background-color: #B55690;'></div><div style='position: relative; height: 10px; width: 120px; background-color: #FF9A56;'></div><div style='position: relative; height: 10px; width: 120px; background-color: #A30262;'></div><div style='position: relative; height: 10px; width: 120px; background-color: #B55690;'></div><p style='text-align: center; margin: 4px 0 0 0'>snasna</p></div><div style='position: relative; display: flex; flex-direction: column; align-items: center;'><div style='position: relative; height: 10px; width: 120px; background-color: #B55690;'></div><div style='position: relative; height: 10px; width: 120px; background-color: #D162A4;'></div><div style='position: relative; height: 10px; width: 120px; background-color: #FF9A56;'></div><div style='position: relative; height: 10px; width: 120px; background-color: #D52D00;'></div><div style='position: relative; height: 10px; width: 120px; background-color: #EF7627;'></div><p style='text-align: center; margin: 4px 0 0 0'>aisle</p></div><div style='position: relative; display: flex; flex-direction: column; align-items: center;'><div style='position: relative; height: 10px; width: 120px; background-color: #FFFFFF;'></div><div style='position: relative; height: 10px; width: 120px; background-color: #D52D00;'></div><div style='position: relative; height: 10px; width: 120px; background-color: #B55690;'></div><div style='position: relative; height: 10px; width: 120px; background-color: #FFFFFF;'></div><div style='position: relative; height: 10px; width: 120px; background-color: #D52D00;'></div><div style='position: relative; height: 10px; width: 120px; background-color: #B55690;'></div><div style='position: relative; height: 10px; width: 120px; background-color: #FFFFFF;'></div><div style='position: relative; height: 10px; width: 120px; background-color: #D52D00;'></div><div style='position: relative; height: 10px; width: 120px; background-color: #B55690;'></div><p style='text-align: center; margin: 4px 0 0 0'>blablabla</p></div><div style='position: relative; display: flex; flex-direction: column; align-items: center;'><div style='position: relative; height: 10px; width: 120px; background-color: #FF9A56;'></div><div style='position: relative; height: 10px; width: 120px; background-color: #EF7627;'></div><div style='position: relative; height: 10px; width: 120px; background-color: #EF7627;'></div><div style='position: relative; height: 10px; width: 120px; background-color: #A30262;'></div><p style='text-align: center; margin: 4px 0 0 0'>seen</p></div><div style='position: relative; display: flex; flex-direction: column; align-items: center;'><div style='position: relative; height: 10px; width: 120px; background-color: #D162A4;'></div><div style='position: relative; height: 10px; width: 120px; background-color: #FF9A56;'></div><div style='position: relative; height: 10px; width: 120px; background-color: #D52D00;'></div><div style='position: relative; height: 10px; width: 120px; background-color: #EF7627;'></div><div style='position: relative; height: 10px; width: 120px; background-color: #FF9A56;'></div><p style='text-align: center; margin: 4px 0 0 0'>isles</p></div><div style='position: relative; display: flex; flex-direction: column; align-items: center;'><div style='position: relative; height: 10px; width: 120px; background-color: #FFFFFF;'></div><div style='position: relative; height: 10px; width: 120px; background-color: #D52D00;'></div><div style='position: relative; height: 10px; width: 120px; background-color: #B55690;'></div><div style='position: relative; height: 10px; width: 120px; background-color: #FFFFFF;'></div><div style='position: relative; height: 10px; width: 120px; background-color: #D52D00;'></div><div style='position: relative; height: 10px; width: 120px; background-color: #B55690;'></div><div style='position: relative; height: 10px; width: 120px; background-color: #FFFFFF;'></div><div style='position: relative; height: 10px; width: 120px; background-color: #D52D00;'></div><div style='position: relative; height: 10px; width: 120px; background-color: #B55690;'></div><div style='position: relative; height: 10px; width: 120px; background-color: #FFFFFF;'></div><div style='position: relative; height: 10px; width: 120px; background-color: #D52D00;'></div><div style='position: relative; height: 10px; width: 120px; background-color: #B55690;'></div><p style='text-align: center; margin: 4px 0 0 0'>blablablabla</p></div><div style='position: relative; display: flex; flex-direction: column; align-items: center;'><div style='position: relative; height: 10px; width: 120px; background-color: #A30262;'></div><div style='position: relative; height: 10px; width: 120px; background-color: #D162A4;'></div><div style='position: relative; height: 10px; width: 120px; background-color: #FFFFFF;'></div><div style='position: relative; height: 10px; width: 120px; background-color: #FFFFFF;'></div><div style='position: relative; height: 10px; width: 120px; background-color: #D52D00;'></div><div style='position: relative; height: 10px; width: 120px; background-color: #EF7627;'></div><div style='position: relative; height: 10px; width: 120px; background-color: #FF9A56;'></div><p style='text-align: center; margin: 4px 0 0 0'>nibbles</p></div><div style='position: relative; display: flex; flex-direction: column; align-items: center;'><div style='position: relative; height: 10px; width: 120px; background-color: #EF7627;'></div><div style='position: relative; height: 10px; width: 120px; background-color: #EF7627;'></div><div style='position: relative; height: 10px; width: 120px; background-color: #D52D00;'></div><div style='position: relative; height: 10px; width: 120px; background-color: #FF9A56;'></div><p style='text-align: center; margin: 4px 0 0 0'>eels</p></div><div style='position: relative; display: flex; flex-direction: column; align-items: center;'><div style='position: relative; height: 10px; width: 120px; background-color: #D52D00;'></div><div style='position: relative; height: 10px; width: 120px; background-color: #D162A4;'></div><div style='position: relative; height: 10px; width: 120px; background-color: #B55690;'></div><div style='position: relative; height: 10px; width: 120px; background-color: #FFFFFF;'></div><div style='position: relative; height: 10px; width: 120px; background-color: #D52D00;'></div><div style='position: relative; height: 10px; width: 120px; background-color: #EF7627;'></div><p style='text-align: center; margin: 4px 0 0 0'>liable</p></div><div style='position: relative; display: flex; flex-direction: column; align-items: center;'><div style='position: relative; height: 10px; width: 120px; background-color: #D52D00;'></div><div style='position: relative; height: 10px; width: 120px; background-color: #D162A4;'></div><div style='position: relative; height: 10px; width: 120px; background-color: #EF7627;'></div><p style='text-align: center; margin: 4px 0 0 0'>lie</p></div><div style='position: relative; display: flex; flex-direction: column; align-items: center;'><div style='position: relative; height: 10px; width: 120px; background-color: #D52D00;'></div><div style='position: relative; height: 10px; width: 120px; background-color: #D162A4;'></div><div style='position: relative; height: 10px; width: 120px; background-color: #D52D00;'></div><div style='position: relative; height: 10px; width: 120px; background-color: #D162A4;'></div><div style='position: relative; height: 10px; width: 120px; background-color: #D52D00;'></div><div style='position: relative; height: 10px; width: 120px; background-color: #D162A4;'></div><p style='text-align: center; margin: 4px 0 0 0'>lilili</p></div></div>\n",
       "    "
      ],
      "text/plain": [
       "<IPython.core.display.HTML object>"
      ]
     },
     "metadata": {
      "isolated": true
     },
     "output_type": "display_data"
    }
   ],
   "source": [
    "wordMix = [*getRandomSyllables(12, 2, 4), *random.sample(gayWords, 12)]\n",
    "random.shuffle(wordMix)\n",
    "flagGrid = wordsToFlagGrid(wordMix)\n",
    "show_html(flagGrid)"
   ]
  },
  {
   "cell_type": "code",
   "execution_count": 34,
   "id": "2c79d579-23f2-402a-93a3-1bd2ed0a7649",
   "metadata": {},
   "outputs": [
    {
     "data": {
      "text/plain": [
       "16083"
      ]
     },
     "execution_count": 34,
     "metadata": {},
     "output_type": "execute_result"
    }
   ],
   "source": [
    "open(\"syllables4.html\", \"w\").write(flagGrid)"
   ]
  },
  {
   "cell_type": "markdown",
   "id": "a9c5d454-f046-44d4-902d-aac186534c2f",
   "metadata": {},
   "source": [
    "Working with text to speech was unexpectedly hilarious, so let's try removing the text labels and instead adding screen-reader friendly HTML attributes to the flag stripes. My goal is for a screen reader to be able to \"speak\" the flag and have it pronounced the same as the text label, but with no text rendering."
   ]
  },
  {
   "cell_type": "code",
   "execution_count": 138,
   "id": "3be9c1f8-4c1a-4920-adbb-56aa7716dfd7",
   "metadata": {},
   "outputs": [],
   "source": [
    "def mkspan(content, **kwargs):\n",
    "    if 'position' not in kwargs:\n",
    "        kwargs['position'] = 'absolute'\n",
    "    style_str = ' '.join([\": \".join((k.replace('_', '-'), v))+\";\" for k, v in kwargs.items()])\n",
    "    return f\"<button aria-description='{content}' style='{style_str}'></button>\"\n",
    "\n",
    "def mkdiv2(content, title, **kwargs):\n",
    "    if 'position' not in kwargs:\n",
    "        kwargs['position'] = 'absolute'\n",
    "    style_str = ' '.join([\": \".join((k.replace('_', '-'), v))+\";\" for k, v in kwargs.items()])\n",
    "    return f\"<div contenteditable='true' title='{title}' style='{style_str}'>{content}</div>\""
   ]
  },
  {
   "cell_type": "code",
   "execution_count": 139,
   "id": "4310c06b-98b4-4c94-b8eb-f2efab192ac6",
   "metadata": {},
   "outputs": [
    {
     "name": "stdout",
     "output_type": "stream",
     "text": [
      "<div contenteditable='true' title='lesbian' style='position: relative; display: flex; flex-direction: column; align-items: center;'><button aria-description='l' style='position: relative; height: 10px; width: 120px; background-color: #D52D00;'></button><button aria-description='e' style='position: relative; height: 10px; width: 120px; background-color: #EF7627;'></button><button aria-description='s' style='position: relative; height: 10px; width: 120px; background-color: #FF9A56;'></button><button aria-description='b' style='position: relative; height: 10px; width: 120px; background-color: #FFFFFF;'></button><button aria-description='i' style='position: relative; height: 10px; width: 120px; background-color: #D162A4;'></button><button aria-description='a' style='position: relative; height: 10px; width: 120px; background-color: #B55690;'></button><button aria-description='n' style='position: relative; height: 10px; width: 120px; background-color: #A30262;'></button></div>\n"
     ]
    },
    {
     "data": {
      "text/html": [
       "<div contenteditable='true' title='lesbian' style='position: relative; display: flex; flex-direction: column; align-items: center;'><button aria-description='l' style='position: relative; height: 10px; width: 120px; background-color: #D52D00;'></button><button aria-description='e' style='position: relative; height: 10px; width: 120px; background-color: #EF7627;'></button><button aria-description='s' style='position: relative; height: 10px; width: 120px; background-color: #FF9A56;'></button><button aria-description='b' style='position: relative; height: 10px; width: 120px; background-color: #FFFFFF;'></button><button aria-description='i' style='position: relative; height: 10px; width: 120px; background-color: #D162A4;'></button><button aria-description='a' style='position: relative; height: 10px; width: 120px; background-color: #B55690;'></button><button aria-description='n' style='position: relative; height: 10px; width: 120px; background-color: #A30262;'></button></div>"
      ],
      "text/plain": [
       "<IPython.core.display.HTML object>"
      ]
     },
     "metadata": {
      "isolated": true
     },
     "output_type": "display_data"
    },
    {
     "data": {
      "text/plain": [
       "985"
      ]
     },
     "execution_count": 139,
     "metadata": {},
     "output_type": "execute_result"
    }
   ],
   "source": [
    "def wordToFlag2(word):\n",
    "    children = []\n",
    "    for letter in word:\n",
    "        color = letterToColor[letter]\n",
    "        span = mkspan(letter, \n",
    "                       position=\"relative\",\n",
    "                       height=\"10px\", \n",
    "                       width=\"120px\",\n",
    "                       background_color=color)\n",
    "        children.append(span)\n",
    "\n",
    "    return mkdiv2(\"\".join(children),\n",
    "                  word,\n",
    "                 position=\"relative\",\n",
    "                 display=\"flex\",\n",
    "                 flex_direction=\"column\",\n",
    "                 align_items=\"center\")\n",
    "\n",
    "flag = wordToFlag2(\"lesbian\")\n",
    "print(flag)\n",
    "show_html(flag)\n",
    "open(\"screenReaderTest.html\", \"w\").write(flag)"
   ]
  },
  {
   "cell_type": "code",
   "execution_count": 152,
   "id": "0fc77931-4cf7-4664-bab4-5cc749eb64d6",
   "metadata": {},
   "outputs": [
    {
     "data": {
      "text/html": [
       "\n",
       "    <style>\n",
       "        body {\n",
       "            background-color: #bdbdbd !important;\n",
       "        }\n",
       "\n",
       "        button {\n",
       "            border: unset;\n",
       "        }\n",
       "    </style>\n",
       "    <div style='width: 100%; display: flex; flex-wrap: wrap; align-items: flex-end; justify-content: center; gap: 24px; padding-bottom: 24px; position: absolute;'><div contenteditable='true' title='i' style='position: relative; display: flex; flex-direction: column; align-items: center;'><button aria-description='i' style='position: relative; height: 10px; width: 120px; background-color: #D162A4;'></button></div><div contenteditable='true' title='sense' style='position: relative; display: flex; flex-direction: column; align-items: center;'><button aria-description='s' style='position: relative; height: 10px; width: 120px; background-color: #FF9A56;'></button><button aria-description='e' style='position: relative; height: 10px; width: 120px; background-color: #EF7627;'></button><button aria-description='n' style='position: relative; height: 10px; width: 120px; background-color: #A30262;'></button><button aria-description='s' style='position: relative; height: 10px; width: 120px; background-color: #FF9A56;'></button><button aria-description='e' style='position: relative; height: 10px; width: 120px; background-color: #EF7627;'></button></div><div contenteditable='true' title='lesbian' style='position: relative; display: flex; flex-direction: column; align-items: center;'><button aria-description='l' style='position: relative; height: 10px; width: 120px; background-color: #D52D00;'></button><button aria-description='e' style='position: relative; height: 10px; width: 120px; background-color: #EF7627;'></button><button aria-description='s' style='position: relative; height: 10px; width: 120px; background-color: #FF9A56;'></button><button aria-description='b' style='position: relative; height: 10px; width: 120px; background-color: #FFFFFF;'></button><button aria-description='i' style='position: relative; height: 10px; width: 120px; background-color: #D162A4;'></button><button aria-description='a' style='position: relative; height: 10px; width: 120px; background-color: #B55690;'></button><button aria-description='n' style='position: relative; height: 10px; width: 120px; background-color: #A30262;'></button></div><div contenteditable='true' title='silliness' style='position: relative; display: flex; flex-direction: column; align-items: center;'><button aria-description='s' style='position: relative; height: 10px; width: 120px; background-color: #FF9A56;'></button><button aria-description='i' style='position: relative; height: 10px; width: 120px; background-color: #D162A4;'></button><button aria-description='l' style='position: relative; height: 10px; width: 120px; background-color: #D52D00;'></button><button aria-description='l' style='position: relative; height: 10px; width: 120px; background-color: #D52D00;'></button><button aria-description='i' style='position: relative; height: 10px; width: 120px; background-color: #D162A4;'></button><button aria-description='n' style='position: relative; height: 10px; width: 120px; background-color: #A30262;'></button><button aria-description='e' style='position: relative; height: 10px; width: 120px; background-color: #EF7627;'></button><button aria-description='s' style='position: relative; height: 10px; width: 120px; background-color: #FF9A56;'></button><button aria-description='s' style='position: relative; height: 10px; width: 120px; background-color: #FF9A56;'></button></div></div>\n",
       "    "
      ],
      "text/plain": [
       "<IPython.core.display.HTML object>"
      ]
     },
     "metadata": {
      "isolated": true
     },
     "output_type": "display_data"
    },
    {
     "data": {
      "text/plain": [
       "3538"
      ]
     },
     "execution_count": 152,
     "metadata": {},
     "output_type": "execute_result"
    }
   ],
   "source": [
    "def wordsToFlagGrid2(words):\n",
    "    children = [wordToFlag2(word.lower()) for word in words]\n",
    "    content = mkdiv(\"\".join(children),\n",
    "                width=\"100%\",\n",
    "                display=\"flex\",\n",
    "                flex_wrap=\"wrap\",\n",
    "                align_items=\"flex-end\",\n",
    "                justify_content=\"center\",\n",
    "                gap=\"24px\",\n",
    "                padding_bottom=\"24px\")\n",
    "\n",
    "    # the white stripe is invisible on default white bg\n",
    "    return f\"\"\"\n",
    "    <style>\n",
    "        body {{\n",
    "            background-color: #bdbdbd !important;\n",
    "        }}\n",
    "\n",
    "        button {{\n",
    "            border: unset;\n",
    "        }}\n",
    "    </style>\n",
    "    {content}\n",
    "    \"\"\"\n",
    "\n",
    "flags = wordsToFlagGrid2(\"i sense lesbian silliness\".split(\" \"))\n",
    "show_html(flags)\n",
    "open(\"screenReaderTest.html\", \"w\").write(flags)"
   ]
  },
  {
   "cell_type": "markdown",
   "id": "5759d602-60d7-4755-b5cc-728b4aad3a9b",
   "metadata": {},
   "source": [
    "I tried a few hacks but this is proving to be more difficult than I thought. I tried the Chrome text to speech feature and MacOS's screen reader, but by putting letters in separate div, p, span, etc. tags they will be read as separate letters, not strung together into words. I guess that makes sense. I tried assigning the `aria-label` or `title` attribute to the flag's parent div but that didn't work either, nothing was spoken aloud.\n",
    "\n",
    "https://css-tricks.com/almanac/properties/s/speak/ was an interesting read, I haven't seen those CSS properties before"
   ]
  },
  {
   "cell_type": "code",
   "execution_count": 15,
   "id": "b80bf164-713f-4f33-9fae-f54eda72827e",
   "metadata": {},
   "outputs": [
    {
     "data": {
      "text/html": [
       "\n",
       "    <style>\n",
       "        body {\n",
       "            background-color: #bdbdbd !important;\n",
       "        }\n",
       "    </style>\n",
       "    <div style='width: 100%; display: flex; flex-wrap: wrap; align-items: flex-end; justify-content: center; gap: 24px; padding-bottom: 24px; position: absolute;'><div style='position: relative; display: flex; flex-direction: column; align-items: center;'><div style='position: relative; height: 10px; width: 120px; background-color: #D162A4;'></div><p style='text-align: center; margin: 4px 0 0 0'>i</p></div><div style='position: relative; display: flex; flex-direction: column; align-items: center;'><div style='position: relative; height: 10px; width: 120px; background-color: #FF9A56;'></div><div style='position: relative; height: 10px; width: 120px; background-color: #EF7627;'></div><div style='position: relative; height: 10px; width: 120px; background-color: #A30262;'></div><div style='position: relative; height: 10px; width: 120px; background-color: #FF9A56;'></div><div style='position: relative; height: 10px; width: 120px; background-color: #EF7627;'></div><p style='text-align: center; margin: 4px 0 0 0'>sense</p></div><div style='position: relative; display: flex; flex-direction: column; align-items: center;'><div style='position: relative; height: 10px; width: 120px; background-color: #D52D00;'></div><div style='position: relative; height: 10px; width: 120px; background-color: #EF7627;'></div><div style='position: relative; height: 10px; width: 120px; background-color: #FF9A56;'></div><div style='position: relative; height: 10px; width: 120px; background-color: #FFFFFF;'></div><div style='position: relative; height: 10px; width: 120px; background-color: #D162A4;'></div><div style='position: relative; height: 10px; width: 120px; background-color: #B55690;'></div><div style='position: relative; height: 10px; width: 120px; background-color: #A30262;'></div><p style='text-align: center; margin: 4px 0 0 0'>lesbian</p></div><div style='position: relative; display: flex; flex-direction: column; align-items: center;'><div style='position: relative; height: 10px; width: 120px; background-color: #FF9A56;'></div><div style='position: relative; height: 10px; width: 120px; background-color: #D162A4;'></div><div style='position: relative; height: 10px; width: 120px; background-color: #D52D00;'></div><div style='position: relative; height: 10px; width: 120px; background-color: #D52D00;'></div><div style='position: relative; height: 10px; width: 120px; background-color: #D162A4;'></div><div style='position: relative; height: 10px; width: 120px; background-color: #A30262;'></div><div style='position: relative; height: 10px; width: 120px; background-color: #EF7627;'></div><div style='position: relative; height: 10px; width: 120px; background-color: #FF9A56;'></div><div style='position: relative; height: 10px; width: 120px; background-color: #FF9A56;'></div><p style='text-align: center; margin: 4px 0 0 0'>silliness</p></div></div>\n",
       "    "
      ],
      "text/plain": [
       "<IPython.core.display.HTML object>"
      ]
     },
     "metadata": {
      "isolated": true
     },
     "output_type": "display_data"
    }
   ],
   "source": [
    "flagGrid = wordsToFlagGrid(\"i sense lesbian silliness\".split(\" \"))\n",
    "show_html(flagGrid)"
   ]
  }
 ],
 "metadata": {
  "kernelspec": {
   "display_name": "Python 3 (ipykernel)",
   "language": "python",
   "name": "python3"
  },
  "language_info": {
   "codemirror_mode": {
    "name": "ipython",
    "version": 3
   },
   "file_extension": ".py",
   "mimetype": "text/x-python",
   "name": "python",
   "nbconvert_exporter": "python",
   "pygments_lexer": "ipython3",
   "version": "3.13.1"
  }
 },
 "nbformat": 4,
 "nbformat_minor": 5
}
