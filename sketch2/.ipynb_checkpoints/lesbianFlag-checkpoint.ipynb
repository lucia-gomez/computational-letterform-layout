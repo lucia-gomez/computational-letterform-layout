{
 "cells": [
  {
   "cell_type": "code",
   "execution_count": null,
   "id": "adaab4fa-3ccd-4252-bf7f-95e34b5c0ba6",
   "metadata": {},
   "outputs": [],
   "source": []
  },
  {
   "cell_type": "code",
   "execution_count": null,
   "id": "fa3b917d-4dbe-4bcf-8f73-cd06297a21ea",
   "metadata": {},
   "outputs": [],
   "source": []
  },
  {
   "cell_type": "code",
   "execution_count": 31,
   "id": "2e058956-c8e4-4104-918e-1d85390affa0",
   "metadata": {},
   "outputs": [
    {
     "name": "stdout",
     "output_type": "stream",
     "text": [
      "45402\n"
     ]
    }
   ],
   "source": [
    "words = open(\"words.txt\").read().splitlines()\n",
    "print(len(words))"
   ]
  },
  {
   "cell_type": "code",
   "execution_count": 34,
   "id": "94b1ea82-b718-443f-ab55-93256f9b4c8c",
   "metadata": {},
   "outputs": [
    {
     "name": "stdout",
     "output_type": "stream",
     "text": [
      "True\n",
      "False\n"
     ]
    }
   ],
   "source": [
    "gayLetters = list(\"lesbian\")\n",
    "isGayWord = lambda word: all(letter in gayLetters for letter in word.lower())\n",
    "print(isGayWord(\"Bean\"))\n",
    "print(isGayWord(\"lemon\"))"
   ]
  },
  {
   "cell_type": "code",
   "execution_count": 35,
   "id": "863c0c3e-2376-4c92-8358-52eba960a2e3",
   "metadata": {},
   "outputs": [
    {
     "name": "stdout",
     "output_type": "stream",
     "text": [
      "['Ababa', 'abase', 'abases', 'Abba', 'abbe', 'Abe', 'Abel', 'Abelian', 'Abilene', 'able', 'Aeneas', 'ail', 'Aileen', 'aisle', 'Al', 'Alan', 'alas', 'alba', 'Albania', 'Albanian', 'Albanians', 'ale', 'alee', 'Ali', 'alias', 'aliases', 'alibi', 'alibis', 'alien', 'aliens', 'all', 'Allan', 'allele', 'alleles', 'Allen', 'allies', 'Allis', 'an', 'Anabel', 'anal', 'aniline', 'anise', 'Ann', 'Anna', 'annal', 'annals', 'Anne', 'Annie', 'ANSI', 'as', 'Asia', 'Asian', 'Asians', 'asinine', 'ass', 'assail', 'assails', 'assassin', 'assassins', 'asses', 'assess', 'assesses', 'babble', 'babbles', 'babe', 'Babel', 'babes', 'babies', 'bail', 'bale', 'bales', 'Bali', 'Balinese', 'ball', 'balls', 'balsa', 'ban', 'banal', 'banana', 'bananas', 'bane', 'bans', 'basal', 'base', 'baseball', 'baseballs', 'Basel', 'baseless', 'baseline', 'baselines', 'baseness', 'bases', 'Basie', 'basil', 'basin', 'basins', 'basis', 'bass', 'basses', 'be', 'bean', 'beans', 'bee', 'Beebe', 'been', 'bees', 'Bela', 'belie', 'belies', 'bell', 'Bella', 'belle', 'belles', 'bellies', 'Bellini', 'bells', 'Ben', 'Bess', 'Bessel', 'Bessie', 'bias', 'biases', 'bib', 'Bible', 'bibles', 'bibs', 'Bien', 'biennial', 'bilabial', 'bile', 'bill', 'Billie', 'bills', 'bin', 'Bini', 'bins', 'blab', 'blabs', 'Blaine', 'blase', 'bless', 'Blinn', 'bliss', 'ease', 'easel', 'eases', 'easiness', 'ebb', 'ebbs', 'Eben', 'eel', 'eels', 'Eileen', 'Elaine', 'Elba', 'Elena', 'Eli', 'Ella', 'Ellen', 'Ellie', 'Ellis', 'else', 'Elsie', 'en', 'enable', 'enables', 'Essen', 'Ian', 'ibis', 'Ibn', 'Ibsen', 'ill', 'illness', 'illnesses', 'ills', 'in', 'inalienable', 'inane', 'Inanna', 'inline', 'inn', 'inns', 'insane', 'insensible', 'is', 'Isabel', 'Isabella', 'Isis', 'isle', 'isles', 'lab', 'Laban', 'label', 'labels', 'labs', 'lain', 'Lana', 'lane', 'lanes', 'lass', 'lasses', 'lean', 'leanness', 'leans', 'lease', 'leases', 'Lebanese', 'lee', 'lees', 'Leila', 'Len', 'Lena', 'Lenin', 'lens', 'lenses', 'Lesbian', 'Lesbians', 'Leslie', 'less', 'lessen', 'lessens', 'liable', 'libel', 'lie', 'lien', 'liens', 'lies', 'Lila', 'Lilian', 'lilies', 'Lillian', 'Lin', 'line', 'linen', 'linens', 'lines', 'Lisa', 'Lise', 'Liss', 'nab', 'nabla', 'nablas', 'nail', 'nails', 'Nan', 'NASA', 'nasal', 'NASAs', 'Neal', 'Neil', 'Nell', 'Nellie', 'Nelsen', 'Ness', 'nibble', 'nibbles', 'Nielsen', 'nil', 'Nile', 'Nilsen', 'Nina', 'nine', 'nines', 'Sabina', 'Sabine', 'sable', 'sables', 'sail', 'sails', 'Sal', 'salable', 'sale', 'sales', 'Salesian', 'Salina', 'saline', 'Salle', 'sallies', 'San', 'Sana', 'sane', 'sea', 'seal', 'seals', 'Sean', 'seas', 'see', 'seen', 'sees', 'Selena', 'sell', 'sells', 'senile', 'sense', 'senseless', 'senselessness', 'senses', 'sensible', 'Sian', 'Siena', 'Silas', 'sill', 'silliness', 'sills', 'Sinai', 'sine', 'sines', 'sins', 'slab', 'slain', 'snail', 'snails']\n"
     ]
    }
   ],
   "source": [
    "gayWords = list(filter(isGayWord, words))\n",
    "print(gayWords)"
   ]
  },
  {
   "cell_type": "code",
   "execution_count": 56,
   "id": "156be104-6d80-4138-afef-db4838772935",
   "metadata": {},
   "outputs": [],
   "source": [
    "# thank you Allison for these functions!\n",
    "from IPython.display import display, HTML\n",
    "def show_html(src):\n",
    "    return display(HTML(src), metadata=dict(isolated=True))\n",
    "    \n",
    "def mkdiv(content, **kwargs):\n",
    "    if 'position' not in kwargs:\n",
    "        kwargs['position'] = 'absolute'\n",
    "    style_str = ' '.join([\": \".join((k.replace('_', '-'), v))+\";\" for k, v in kwargs.items()])\n",
    "    return f\"<div style='{style_str}'>{content}</div>\""
   ]
  },
  {
   "cell_type": "code",
   "execution_count": 157,
   "id": "2e3278ed-21cd-4d8c-a403-69313b31d6de",
   "metadata": {},
   "outputs": [],
   "source": [
    "letterToColor = {\n",
    "    \"l\": \"#D52D00\",\n",
    "    \"e\": \"#EF7627\",\n",
    "    \"s\": \"#FF9A56\",\n",
    "    \"b\": \"#FFFFFF\",\n",
    "    \"i\": \"#D162A4\",\n",
    "    \"a\": \"#B55690\",\n",
    "    \"n\": \"#A30262\",\n",
    "}\n",
    "\n",
    "# render a single word as flag stripes + a text label using flexbox\n",
    "# ...because i love flexbox\n",
    "def wordToFlag(word):\n",
    "    children = []\n",
    "    for letter in word:\n",
    "        color = letterToColor[letter]\n",
    "        newDiv = mkdiv(\"\", \n",
    "                       position=\"relative\",\n",
    "                       height=\"10px\", \n",
    "                       width=\"120px\",\n",
    "                       background_color=color)\n",
    "        children.append(newDiv)\n",
    "\n",
    "    label = f\"<p style='text-align: center; margin: 4px 0 0 0'>{word}</p>\"\n",
    "    children.append(label)\n",
    "    return mkdiv(\"\".join(children), \n",
    "                 position=\"relative\",\n",
    "                 display=\"flex\",\n",
    "                 flex_direction=\"column\",\n",
    "                 align_items=\"center\")"
   ]
  },
  {
   "cell_type": "code",
   "execution_count": 153,
   "id": "8d2824ec-aab1-4138-a821-5c3492d8913f",
   "metadata": {},
   "outputs": [
    {
     "data": {
      "text/html": [
       "<div style='position: relative; display: flex; flex-direction: column; align-items: center;'><div style='position: relative; height: 10px; width: 120px; background-color: #D52D00;'></div><div style='position: relative; height: 10px; width: 120px; background-color: #EF7627;'></div><div style='position: relative; height: 10px; width: 120px; background-color: #FF9A56;'></div><div style='position: relative; height: 10px; width: 120px; background-color: #FFFFFF;'></div><div style='position: relative; height: 10px; width: 120px; background-color: #D162A4;'></div><div style='position: relative; height: 10px; width: 120px; background-color: #B55690;'></div><div style='position: relative; height: 10px; width: 120px; background-color: #A30262;'></div><p style='text-align: center; margin: 4px 0 0 0'>lesbian</p></div>"
      ],
      "text/plain": [
       "<IPython.core.display.HTML object>"
      ]
     },
     "metadata": {
      "isolated": true
     },
     "output_type": "display_data"
    }
   ],
   "source": [
    "show_html(wordToFlag(\"lesbian\"))"
   ]
  },
  {
   "cell_type": "code",
   "execution_count": 163,
   "id": "016c503d-5ee6-4922-a5b6-ad6fc352f707",
   "metadata": {},
   "outputs": [],
   "source": [
    "def wordsToFlagGrid(words):\n",
    "    children = [wordToFlag(word.lower()) for word in words]\n",
    "    content = mkdiv(\"\".join(children),\n",
    "                width=\"100%\",\n",
    "                display=\"flex\",\n",
    "                flex_wrap=\"wrap\",\n",
    "                align_items=\"flex-end\",\n",
    "                justify_content=\"center\",\n",
    "                gap=\"24px\")\n",
    "\n",
    "    # the white stripe is invisible on default white bg\n",
    "    return f\"\"\"\n",
    "    <style>\n",
    "        body {{\n",
    "            background-color: #bdbdbd !important;\n",
    "        }}\n",
    "    </style>\n",
    "    {content}\n",
    "    \"\"\""
   ]
  },
  {
   "cell_type": "code",
   "execution_count": 168,
   "id": "6341e792-5a3f-44bd-bd39-d9590455bec0",
   "metadata": {},
   "outputs": [
    {
     "data": {
      "text/html": [
       "\n",
       "    <style>\n",
       "        body {\n",
       "            background-color: #bdbdbd !important;\n",
       "        }\n",
       "    </style>\n",
       "    <div style='width: 100%; display: flex; flex-wrap: wrap; align-items: flex-end; justify-content: center; gap: 24px; position: absolute;'><div style='position: relative; display: flex; flex-direction: column; align-items: center;'><div style='position: relative; height: 10px; width: 120px; background-color: #D52D00;'></div><div style='position: relative; height: 10px; width: 120px; background-color: #EF7627;'></div><div style='position: relative; height: 10px; width: 120px; background-color: #FF9A56;'></div><div style='position: relative; height: 10px; width: 120px; background-color: #FFFFFF;'></div><div style='position: relative; height: 10px; width: 120px; background-color: #D162A4;'></div><div style='position: relative; height: 10px; width: 120px; background-color: #B55690;'></div><div style='position: relative; height: 10px; width: 120px; background-color: #A30262;'></div><p style='text-align: center; margin: 4px 0 0 0'>lesbian</p></div><div style='position: relative; display: flex; flex-direction: column; align-items: center;'><div style='position: relative; height: 10px; width: 120px; background-color: #D52D00;'></div><div style='position: relative; height: 10px; width: 120px; background-color: #EF7627;'></div><div style='position: relative; height: 10px; width: 120px; background-color: #FF9A56;'></div><p style='text-align: center; margin: 4px 0 0 0'>les</p></div><div style='position: relative; display: flex; flex-direction: column; align-items: center;'><div style='position: relative; height: 10px; width: 120px; background-color: #FFFFFF;'></div><div style='position: relative; height: 10px; width: 120px; background-color: #D162A4;'></div><div style='position: relative; height: 10px; width: 120px; background-color: #B55690;'></div><div style='position: relative; height: 10px; width: 120px; background-color: #A30262;'></div><p style='text-align: center; margin: 4px 0 0 0'>bian</p></div><div style='position: relative; display: flex; flex-direction: column; align-items: center;'><div style='position: relative; height: 10px; width: 120px; background-color: #B55690;'></div><div style='position: relative; height: 10px; width: 120px; background-color: #FF9A56;'></div><div style='position: relative; height: 10px; width: 120px; background-color: #FF9A56;'></div><p style='text-align: center; margin: 4px 0 0 0'>ass</p></div><div style='position: relative; display: flex; flex-direction: column; align-items: center;'><div style='position: relative; height: 10px; width: 120px; background-color: #B55690;'></div><div style='position: relative; height: 10px; width: 120px; background-color: #B55690;'></div><div style='position: relative; height: 10px; width: 120px; background-color: #B55690;'></div><div style='position: relative; height: 10px; width: 120px; background-color: #B55690;'></div><div style='position: relative; height: 10px; width: 120px; background-color: #B55690;'></div><div style='position: relative; height: 10px; width: 120px; background-color: #B55690;'></div><div style='position: relative; height: 10px; width: 120px; background-color: #B55690;'></div><div style='position: relative; height: 10px; width: 120px; background-color: #B55690;'></div><div style='position: relative; height: 10px; width: 120px; background-color: #B55690;'></div><p style='text-align: center; margin: 4px 0 0 0'>aaaaaaaaa</p></div></div>\n",
       "    "
      ],
      "text/plain": [
       "<IPython.core.display.HTML object>"
      ]
     },
     "metadata": {
      "isolated": true
     },
     "output_type": "display_data"
    }
   ],
   "source": [
    "show_html(wordsToFlagGrid([\"lesbian\", \"les\", \"bian\", \"ass\", \"AAAAAAAAA\"]))"
   ]
  }
 ],
 "metadata": {
  "kernelspec": {
   "display_name": "Python 3 (ipykernel)",
   "language": "python",
   "name": "python3"
  },
  "language_info": {
   "codemirror_mode": {
    "name": "ipython",
    "version": 3
   },
   "file_extension": ".py",
   "mimetype": "text/x-python",
   "name": "python",
   "nbconvert_exporter": "python",
   "pygments_lexer": "ipython3",
   "version": "3.13.1"
  }
 },
 "nbformat": 4,
 "nbformat_minor": 5
}
